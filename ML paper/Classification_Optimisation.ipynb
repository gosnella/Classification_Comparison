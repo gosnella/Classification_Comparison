{
 "cells": [
  {
   "cell_type": "code",
   "execution_count": 764,
   "id": "7f5bebb4",
   "metadata": {},
   "outputs": [],
   "source": [
    "import numpy as np\n",
    "import pandas as pd\n",
    "import time\n",
    "import pickle\n",
    "\n",
    "from sklearn.ensemble import RandomForestClassifier, ExtraTreesClassifier\n",
    "from sklearn.model_selection import StratifiedKFold, train_test_split\n",
    "from sklearn.metrics import brier_score_loss, classification_report, confusion_matrix, log_loss\n",
    "from sklearn.preprocessing import MinMaxScaler\n",
    "\n",
    "import hyperopt \n",
    "from hyperopt import hp\n",
    "from hyperopt.pyll import scope\n",
    "\n",
    "import classification_functions as cf\n"
   ]
  },
  {
   "cell_type": "code",
   "execution_count": 789,
   "id": "462e38a7",
   "metadata": {},
   "outputs": [],
   "source": [
    "\n",
    "X = pd.read_pickle('X.pickle')\n",
    "y = pd.read_pickle('y.pickle')"
   ]
  },
  {
   "cell_type": "code",
   "execution_count": 783,
   "id": "36574b6b",
   "metadata": {},
   "outputs": [],
   "source": [
    "# Random Forest\n",
    "\n",
    "classifier = RandomForestClassifier\n",
    "#classifier = ExtraTreesClassifier\n",
    "\n",
    "# numerical arguments to evaluate\n",
    "num_pars = {\n",
    "    \n",
    "    'n_estimators' : [100,500,10],\n",
    "    'max_depth': [5, 20,1],\n",
    "    'min_samples_leaf': [1,5,1],\n",
    "    'min_samples_split': [2,6,1],\n",
    "}\n",
    "\n",
    "# categorical arguments to evaluate\n",
    "cat_pars = {\n",
    "    \n",
    "    'max_features': [\"sqrt\", \"log2\"],\n",
    "    'criterion': [\"gini\", \"entropy\", \"log_loss\"]\n",
    "}"
   ]
  },
  {
   "cell_type": "code",
   "execution_count": 784,
   "id": "4cf1418f",
   "metadata": {},
   "outputs": [
    {
     "name": "stdout",
     "output_type": "stream",
     "text": [
      "100%|████████████████████████████████████████████████████| 3/3 [00:03<00:00,  1.06s/trial, best loss: 0.94599368824016]\n"
     ]
    }
   ],
   "source": [
    "# Uses hyperoptimisation to find the best arguments. Performs cross validation on the best model\n",
    "best_args, best_loss, trials = cf.classification_optimise(X, y, num_pars, cat_pars, classifier, max_evals=3, n_folds=2)"
   ]
  }
 ],
 "metadata": {
  "kernelspec": {
   "display_name": "Python 3 (ipykernel)",
   "language": "python",
   "name": "python3"
  },
  "language_info": {
   "codemirror_mode": {
    "name": "ipython",
    "version": 3
   },
   "file_extension": ".py",
   "mimetype": "text/x-python",
   "name": "python",
   "nbconvert_exporter": "python",
   "pygments_lexer": "ipython3",
   "version": "3.9.12"
  }
 },
 "nbformat": 4,
 "nbformat_minor": 5
}
